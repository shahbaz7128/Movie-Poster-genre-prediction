{
 "cells": [
  {
   "cell_type": "code",
   "execution_count": null,
   "metadata": {},
   "outputs": [],
   "source": [
    "import tensorflow as tf\n",
    "from tensorflow import keras\n",
    "import numpy as np\n",
    "import pandas as pd\n",
    "from tqdm import tqdm\n",
    "from tensorflow.keras import layers\n",
    "from sklearn.model_selection import train_test_split\n",
    "from tensorflow.keras.layers import Dense,Conv2D\n",
    "from tensorflow.keras.models import Sequential\n",
    "from tensorflow.keras.optimizers import Adam\n",
    "from tensorflow.keras.preprocessing import image"
   ]
  },
  {
   "cell_type": "code",
   "execution_count": null,
   "metadata": {},
   "outputs": [],
   "source": [
    "print(tf.__version__)"
   ]
  },
  {
   "cell_type": "code",
   "execution_count": null,
   "metadata": {},
   "outputs": [],
   "source": [
    "#Reading the train .csv file\n",
    "data=pd.read_csv('C:\\\\Users\\\\SHAHBAZ\\\\Desktop\\\\data science\\\\AppliedAI\\\\deep learning\\\\Movies-Poster_Dataset-master\\\\train.csv')\n",
    "data.shape"
   ]
  },
  {
   "cell_type": "code",
   "execution_count": null,
   "metadata": {},
   "outputs": [],
   "source": [
    "#taking only 1000rows from the dataset\n",
    "df_1 = data.iloc[:1000,:]"
   ]
  },
  {
   "cell_type": "code",
   "execution_count": null,
   "metadata": {},
   "outputs": [],
   "source": [
    "df_1.shape"
   ]
  },
  {
   "cell_type": "code",
   "execution_count": null,
   "metadata": {},
   "outputs": [],
   "source": [
    "df_1.head(5)"
   ]
  },
  {
   "cell_type": "code",
   "execution_count": null,
   "metadata": {},
   "outputs": [],
   "source": [
    "#Preprocessing the images in to the same size images\n",
    "img_width=150\n",
    "img_heigth=150\n",
    "\n",
    "x=[]\n",
    "\n",
    "for i in tqdm(range(1000)):\n",
    "  path='C:\\\\Users\\\\SHAHBAZ\\\\Desktop\\\\data science\\\\AppliedAI\\\\deep learning\\\\Movies-Poster_Dataset-master\\\\Images\\\\' +data['Id'][i] + '.jpg'\n",
    "  img= image.load_img(path,target_size=(img_width,img_heigth,3)) #loading the image data into img varaible\n",
    "  img=image.img_to_array(img)\n",
    "  #converting the image from 0-255 to 0-1\n",
    "  img=img/255.0\n",
    "  x.append(img)\n",
    "x=np.array(x)"
   ]
  },
  {
   "cell_type": "code",
   "execution_count": null,
   "metadata": {},
   "outputs": [],
   "source": [
    "x.shape"
   ]
  },
  {
   "cell_type": "code",
   "execution_count": null,
   "metadata": {},
   "outputs": [],
   "source": [
    "y=df_1.drop(['Id','Genre'],axis=1)\n",
    "y=y.to_numpy()\n",
    "y.shape"
   ]
  },
  {
   "cell_type": "code",
   "execution_count": null,
   "metadata": {},
   "outputs": [],
   "source": [
    "#Train and Test Construction\n",
    "x_train,x_test,y_train,y_test=train_test_split(x,y,random_state=0,test_size=0.20)"
   ]
  },
  {
   "cell_type": "code",
   "execution_count": null,
   "metadata": {},
   "outputs": [],
   "source": [
    "#data augmentation\n",
    "data_augmentation = keras.Sequential([ \n",
    "   layers.RandomFlip(\"horizontal\"),\n",
    "   layers.RandomRotation(0.2),\n",
    "])"
   ]
  },
  {
   "cell_type": "code",
   "execution_count": null,
   "metadata": {},
   "outputs": [],
   "source": [
    "#BUild Model\n",
    "base_model=keras.applications.Xception(\n",
    "    weights='imagenet',\n",
    "    input_shape=(150,150,3),\n",
    "    include_top=False,\n",
    ")\n",
    "\n",
    "#Freeze the base model\n",
    "base_model.trainable=False\n",
    "\n",
    "#create new model on top\n",
    "inputs=keras.Input(shape=(150,150,3))\n",
    "x=data_augmentation(inputs)\n",
    "#scale_layer=keras.layers.Rescaling(scale=1/255,offset=0)\n",
    "#x=scale_layer(x)\n",
    "x=base_model(x,training=False)\n",
    "x=keras.layers.GlobalAveragePooling2D()(x)\n",
    "x=keras.layers.Dropout(0.2)(x)\n",
    "outputs=keras.layers.Dense(25,activation='sigmoid')(x)\n",
    "model=keras.Model(inputs,outputs)\n",
    "model.summary()"
   ]
  },
  {
   "cell_type": "code",
   "execution_count": null,
   "metadata": {},
   "outputs": [],
   "source": [
    "tf.autograph.experimental.do_not_convert\n",
    "#Train the top layer\n",
    "model.compile(optimizer='adam',loss='binary_crossentropy',metrics=['accuracy'])\n",
    "my_callbacks=[tf.keras.callbacks.EarlyStopping(patience=5)]\n",
    "model.fit(x_train,y_train,epochs=40,validation_data=(x_test,y_test),callbacks=my_callbacks)"
   ]
  },
  {
   "cell_type": "code",
   "execution_count": null,
   "metadata": {},
   "outputs": [],
   "source": [
    "#keras fine tuning\n",
    "base_model.trainable=True\n",
    "model.summary()\n",
    "\n",
    "model.compile(\n",
    "    optimizer=keras.optimizers.Adam(1e-5),\n",
    "    loss=keras.losses.BinaryCrossentropy(from_logits=True),\n",
    "    metrics=[keras.metrics.BinaryAccuracy()],\n",
    ")\n",
    "\n",
    "model.fit(x_train,y_train,epochs=3,validation_data=(x_test,y_test))"
   ]
  }
 ],
 "metadata": {
  "kernelspec": {
   "display_name": "Python 3",
   "language": "python",
   "name": "python3"
  },
  "language_info": {
   "codemirror_mode": {
    "name": "ipython",
    "version": 3
   },
   "file_extension": ".py",
   "mimetype": "text/x-python",
   "name": "python",
   "nbconvert_exporter": "python",
   "pygments_lexer": "ipython3",
   "version": "3.7.4"
  }
 },
 "nbformat": 4,
 "nbformat_minor": 2
}
